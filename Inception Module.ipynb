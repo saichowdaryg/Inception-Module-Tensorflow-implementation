{
 "cells": [
  {
   "cell_type": "markdown",
   "metadata": {},
   "source": [
    "<img src=\"inceptionmodule.png\" alt=\"Inception Module\" style=\"width: 500px;\"/>"
   ]
  },
  {
   "cell_type": "code",
   "execution_count": 1,
   "metadata": {
    "collapsed": true
   },
   "outputs": [],
   "source": [
    "class nn:\n",
    "    \n",
    "    def __init__(self):\n",
    "        self.weights={}\n",
    "        self.biases={}\n",
    "        \n",
    "    def inception(self,inp,layer_name,out_depth=[64,128,32,32],intermed_depth=[64,16]):\n",
    "        \n",
    "        depth=inp.get_shape()[-1].value\n",
    "        #creating weights \n",
    "        self.weights[layer_name+' 1x1']=tf.Variable(tf.truncated_normal([1,1,depth,out_depth[0]],stddev=0.1))\n",
    "        self.weights[layer_name+' 1x1 for 3x3']=tf.Variable(tf.truncated_normal([1,1,depth,intermed_depth[0]]\\\n",
    "                                                                                ,stddev=0.1))\n",
    "        self.weights[layer_name+' 1x1 for 5x5']=tf.Variable(tf.truncated_normal([1,1,depth,intermed_depth[1]]\\\n",
    "                                                                                ,stddev=0.1))\n",
    "        self.weights[layer_name+' 3x3']=tf.Variable(tf.truncated_normal([3,3,intermed_depth[0],out_depth[1]]\\\n",
    "                                                                        ,stddev=0.1))\n",
    "        self.weights[layer_name+' 5x5']=tf.Variable(tf.truncated_normal([5,5,intermed_depth[1],out_depth[2]]\\\n",
    "                                                                        ,stddev=0.1))\n",
    "        self.weights[layer_name+' 1x1 after maxpool']=tf.Variable(tf.truncated_normal\\\n",
    "                                                                  ([1,1,depth,out_depth[3]],stddev=0.1))\n",
    "        #creating biases\n",
    "        self.biases[layer_name+' 1x1']=tf.Variable(tf.constant(0.1,shape=[out_depth[0]]))\n",
    "        self.biases[layer_name+' 1x1 for 3x3']=tf.Variable(tf.constant(0.1,shape=[intermed_depth[0]]))\n",
    "        self.biases[layer_name+' 1x1 for 5x5']=tf.Variable(tf.constant(0.1,shape=[intermed_depth[1]]))\n",
    "        self.biases[layer_name+' 3x3']=tf.Variable(tf.constant(0.1,shape=[out_depth[1]]))\n",
    "        self.biases[layer_name+' 5x5']=tf.Variable(tf.constant(0.1,shape=[out_depth[2]]))\n",
    "        self.biases[layer_name+' 1x1 after maxpool']=tf.Variable(tf.constant(0.1,shape=[out_depth[3]]))\n",
    "        #describing the network\n",
    "        #strides for cnn=[stride over batch(i.e 1),stride over length (here 1),\\\n",
    "        #                stride over width (here 1),stride over channels (i.e 1)] i.e [1,1,1,1]\n",
    "        #strides for max pooling:[1,1,1,1]\n",
    "        c1=tf.nn.relu(tf.nn.conv2d(inp,self.weights[layer_name+' 1x1'],strides=[1,1,1,1],padding='SAME')+\\\n",
    "                      self.biases[layer_name+' 1x1'])\n",
    "        c1_3=tf.nn.relu(tf.nn.conv2d(inp,self.weights[layer_name+' 1x1 for 3x3'],strides=[1,1,1,1],\\\n",
    "                                     padding='SAME')+self.biases[layer_name+' 1x1 for 3x3'])\n",
    "        c1_5=tf.nn.relu(tf.nn.conv2d(inp,self.weights[layer_name+' 1x1 for 5x5'],strides=[1,1,1,1],\\\n",
    "                                     padding='SAME')+self.biases[layer_name+' 1x1 for 5x5'])\n",
    "        c3=tf.nn.relu(tf.nn.conv2d(c1_3,self.weights[layer_name+' 3x3'],strides=[1,1,1,1],padding='SAME')\\\n",
    "                      +self.biases[layer_name+' 3x3'])\n",
    "        c5=tf.nn.relu(tf.nn.conv2d(c1_5,self.weights[layer_name+' 5x5'],strides=[1,1,1,1],padding='SAME')+\\\n",
    "                      self.biases[layer_name+' 5x5'])\n",
    "        mp=tf.nn.max_pool(inp,ksize=[1,2,2,1],strides=[1,1,1,1],padding='SAME')\n",
    "        cmp=tf.nn.relu(tf.nn.conv2d(mp,self.weights[layer_name+' 1x1 after maxpool'],strides=[1,1,1,1],\\\n",
    "                                   padding='SAME')+self.biases[layer_name+' 1x1 after maxpool'])\n",
    "        return tf.concat([c1,c1_3,c1_5,cmp],axis=3)\n",
    "    \n",
    "    def dense(self,inp,layer_name,nodes):\n",
    "        prev_channels=inp.get_shape()[-1].value\n",
    "        self.weights[layer_name]=tf.Variable(tf.truncated_normal([prev_channels,nodes],stddev=0.1))\n",
    "        self.bias[layer_name]=tf.Variable(tf.constant(0.0,shape=[nodes]))\n",
    "        return tf.nn.relu(tf.matmul(inp,self.weights[layer_name]) + self.biases[layer_name])\n",
    "    \n",
    "    def flatten(self,inp):\n",
    "        return tf.contrib.layers.flatten(inp)\n",
    "    \n",
    "    def logits(self,inp,nodes=10):\n",
    "        prev_channels=inp.get_shape()[-1].value\n",
    "        layer_name='logits'\n",
    "        self.weights[layer_name]=tf.Variable(tf.truncated_normal([prev_channels,nodes],stddev=0.01))\n",
    "        self.biases[layer_name]=tf.Variable(tf.constant(0.1,shape=[nodes]))\n",
    "        return tf.matmul(inp,self.weights[layer_name]) + self.biases[layer_name]"
   ]
  },
  {
   "cell_type": "code",
   "execution_count": 2,
   "metadata": {},
   "outputs": [
    {
     "name": "stderr",
     "output_type": "stream",
     "text": [
      "/home/sai/anaconda3/lib/python3.5/site-packages/h5py/__init__.py:34: FutureWarning: Conversion of the second argument of issubdtype from `float` to `np.floating` is deprecated. In future, it will be treated as `np.float64 == np.dtype(float).type`.\n",
      "  from ._conv import register_converters as _register_converters\n"
     ]
    }
   ],
   "source": [
    "import tensorflow  as tf\n",
    "import os"
   ]
  },
  {
   "cell_type": "code",
   "execution_count": 3,
   "metadata": {
    "collapsed": true
   },
   "outputs": [
    {
     "name": "stdout",
     "output_type": "stream",
     "text": [
      "WARNING:tensorflow:From /home/sai/anaconda3/lib/python3.5/site-packages/tensorflow/contrib/learn/python/learn/datasets/base.py:198: retry (from tensorflow.contrib.learn.python.learn.datasets.base) is deprecated and will be removed in a future version.\n",
      "Instructions for updating:\n",
      "Use the retry module or similar alternatives.\n",
      "WARNING:tensorflow:From <ipython-input-3-69c65344baec>:2: read_data_sets (from tensorflow.contrib.learn.python.learn.datasets.mnist) is deprecated and will be removed in a future version.\n",
      "Instructions for updating:\n",
      "Please use alternatives such as official/mnist/dataset.py from tensorflow/models.\n",
      "WARNING:tensorflow:From /home/sai/anaconda3/lib/python3.5/site-packages/tensorflow/contrib/learn/python/learn/datasets/mnist.py:260: maybe_download (from tensorflow.contrib.learn.python.learn.datasets.base) is deprecated and will be removed in a future version.\n",
      "Instructions for updating:\n",
      "Please write your own downloading logic.\n",
      "WARNING:tensorflow:From /home/sai/anaconda3/lib/python3.5/site-packages/tensorflow/contrib/learn/python/learn/datasets/mnist.py:262: extract_images (from tensorflow.contrib.learn.python.learn.datasets.mnist) is deprecated and will be removed in a future version.\n",
      "Instructions for updating:\n",
      "Please use tf.data to implement this functionality.\n",
      "Extracting MNIST_data/train-images-idx3-ubyte.gz\n",
      "WARNING:tensorflow:From /home/sai/anaconda3/lib/python3.5/site-packages/tensorflow/contrib/learn/python/learn/datasets/mnist.py:267: extract_labels (from tensorflow.contrib.learn.python.learn.datasets.mnist) is deprecated and will be removed in a future version.\n",
      "Instructions for updating:\n",
      "Please use tf.data to implement this functionality.\n",
      "Extracting MNIST_data/train-labels-idx1-ubyte.gz\n",
      "WARNING:tensorflow:From /home/sai/anaconda3/lib/python3.5/site-packages/tensorflow/contrib/learn/python/learn/datasets/mnist.py:110: dense_to_one_hot (from tensorflow.contrib.learn.python.learn.datasets.mnist) is deprecated and will be removed in a future version.\n",
      "Instructions for updating:\n",
      "Please use tf.one_hot on tensors.\n",
      "Extracting MNIST_data/t10k-images-idx3-ubyte.gz\n",
      "Extracting MNIST_data/t10k-labels-idx1-ubyte.gz\n",
      "WARNING:tensorflow:From /home/sai/anaconda3/lib/python3.5/site-packages/tensorflow/contrib/learn/python/learn/datasets/mnist.py:290: DataSet.__init__ (from tensorflow.contrib.learn.python.learn.datasets.mnist) is deprecated and will be removed in a future version.\n",
      "Instructions for updating:\n",
      "Please use alternatives such as official/mnist/dataset.py from tensorflow/models.\n"
     ]
    }
   ],
   "source": [
    "from tensorflow.examples.tutorials.mnist import input_data\n",
    "mnist = input_data.read_data_sets(\"MNIST_data/\", one_hot=True)"
   ]
  },
  {
   "cell_type": "code",
   "execution_count": 4,
   "metadata": {
    "collapsed": true
   },
   "outputs": [],
   "source": [
    "x = tf.placeholder(tf.float32, shape=[None, 784])\n",
    "y_ = tf.placeholder(tf.float32, shape=[None, 10])"
   ]
  },
  {
   "cell_type": "code",
   "execution_count": 5,
   "metadata": {
    "collapsed": true
   },
   "outputs": [],
   "source": [
    "x_reshaped=tf.reshape(x,[-1,28,28,1])\n",
    "net=nn()\n",
    "c1=net.inception(inp=x_reshaped,layer_name='inception_module_1')\n",
    "c2=net.inception(inp=c1,layer_name='inception_module_2')\n",
    "f=net.flatten(c2)\n",
    "out_logits=net.logits(f,nodes=10)"
   ]
  },
  {
   "cell_type": "code",
   "execution_count": 6,
   "metadata": {},
   "outputs": [
    {
     "name": "stdout",
     "output_type": "stream",
     "text": [
      "WARNING:tensorflow:From <ipython-input-6-9bf395c68c8b>:1: softmax_cross_entropy_with_logits (from tensorflow.python.ops.nn_ops) is deprecated and will be removed in a future version.\n",
      "Instructions for updating:\n",
      "\n",
      "Future major versions of TensorFlow will allow gradients to flow\n",
      "into the labels input on backprop by default.\n",
      "\n",
      "See tf.nn.softmax_cross_entropy_with_logits_v2.\n",
      "\n"
     ]
    }
   ],
   "source": [
    "cross_entropy = tf.reduce_mean(tf.nn.softmax_cross_entropy_with_logits(labels=y_, logits=out_logits))\n",
    "train_step = tf.train.AdamOptimizer(1e-4).minimize(cross_entropy)\n",
    "correct_prediction = tf.equal(tf.argmax(out_logits, 1), tf.argmax(y_, 1))\n",
    "accuracy = tf.reduce_mean(tf.cast(correct_prediction, tf.float32))"
   ]
  },
  {
   "cell_type": "code",
   "execution_count": null,
   "metadata": {},
   "outputs": [
    {
     "name": "stdout",
     "output_type": "stream",
     "text": [
      "after 0 epochs, training accuracy 0.086           test accuracy 0.074\n",
      "after 1 epochs, training accuracy 0.854           test accuracy 0.85\n",
      "after 2 epochs, training accuracy 0.886           test accuracy 0.898\n",
      "after 3 epochs, training accuracy 0.904           test accuracy 0.904\n",
      "after 4 epochs, training accuracy 0.896           test accuracy 0.918\n",
      "after 5 epochs, training accuracy 0.914           test accuracy 0.926\n",
      "after 6 epochs, training accuracy 0.902           test accuracy 0.926\n",
      "after 7 epochs, training accuracy 0.932           test accuracy 0.93\n",
      "after 8 epochs, training accuracy 0.93           test accuracy 0.934\n",
      "after 9 epochs, training accuracy 0.91           test accuracy 0.926\n",
      "after 10 epochs, training accuracy 0.914           test accuracy 0.938\n",
      "after 11 epochs, training accuracy 0.938           test accuracy 0.946\n"
     ]
    }
   ],
   "source": [
    "with tf.Session() as sess:\n",
    "    sess.run(tf.global_variables_initializer())\n",
    "    batch_size=500\n",
    "    #saver.restore(sess, '/home/vamsi/models/mnist/10.cptk')\n",
    "    #writer=tf.summary.FileWriter('/tmp/mnist')\n",
    "    #writer.add_graph(sess.graph)\n",
    "    for i in range(3300):\n",
    "        \n",
    "        batch = mnist.train.next_batch(batch_size)\n",
    "        if i % 110 == 0:\n",
    "                train_accuracy = accuracy.eval(feed_dict={x: batch[0], y_: batch[1]})\n",
    "                print('after %d epochs, training accuracy %g           test accuracy %g'\\\n",
    "                      % (i//110, train_accuracy,accuracy.eval(feed_dict={x: mnist.test.images[:500], \\\n",
    "                                                                                y_: mnist.test.labels[:500]})))\n",
    "            \n",
    "        \n",
    "        train_step.run(feed_dict={x: batch[0], y_: batch[1]})\n",
    "        #if i % 100 == 10:\n",
    "                #if not os.path.exists(model_directory):\n",
    "                #    os.makedirs(model_directory)      \n",
    "                #saver.save(sess, save_path = model_directory + '/' + str(i) + '.cptk')\n",
    "        "
   ]
  }
 ],
 "metadata": {
  "kernelspec": {
   "display_name": "Python 3",
   "language": "python",
   "name": "python3"
  },
  "language_info": {
   "codemirror_mode": {
    "name": "ipython",
    "version": 3
   },
   "file_extension": ".py",
   "mimetype": "text/x-python",
   "name": "python",
   "nbconvert_exporter": "python",
   "pygments_lexer": "ipython3",
   "version": "3.5.4"
  }
 },
 "nbformat": 4,
 "nbformat_minor": 2
}
